{
 "cells": [
  {
   "cell_type": "raw",
   "id": "df752fb4-9802-4bbb-b491-2b0df7709fdf",
   "metadata": {},
   "source": [
    "Mr. Karthiken works in a door mat manufacturing company. One day, he designed a new door mat with the following specifications:\n",
    "\n",
    "             a) Mat size must be N X M. (N is an odd natural number, and M is 3 times N.)\n",
    "              b) The design should have ‘WELCOME’ written in the center.\n",
    "              c) The design pattern should only use |, . and – characters.\n",
    "\n",
    "    Sample Design is given above image, Write a python code for this.\n",
    "\n"
   ]
  },
  {
   "cell_type": "code",
   "execution_count": 1,
   "id": "e4da6705-4845-4ead-be10-30dabfdf24b5",
   "metadata": {},
   "outputs": [
    {
     "name": "stdout",
     "output_type": "stream",
     "text": [
      "---------.|.---------\n",
      "------.|..|..|.------\n",
      "---.|..|..|..|..|.---\n",
      "-------WELCOME-------\n",
      "---.|..|..|..|..|.---\n",
      "------.|..|..|.------\n",
      "---------.|.---------\n"
     ]
    }
   ],
   "source": [
    "def door_mat_design(N, M):\n",
    "    pattern = [('.|.' * (2 * i + 1)).center(M, '-') for i in range(N // 2)]\n",
    "    welcome_line = 'WELCOME'.center(M, '-')\n",
    "    design = '\\n'.join(pattern + [welcome_line] + pattern[::-1])\n",
    "    return design\n",
    "\n",
    "\n",
    "N = 7  \n",
    "M = 3*N  \n",
    "\n",
    "door_mat = door_mat_design(N, M)\n",
    "print(door_mat)"
   ]
  },
  {
   "cell_type": "code",
   "execution_count": null,
   "id": "e459ee21-f2e0-44c3-ac2d-b4c30f50f0ac",
   "metadata": {},
   "outputs": [],
   "source": []
  }
 ],
 "metadata": {
  "kernelspec": {
   "display_name": "Python 3 (ipykernel)",
   "language": "python",
   "name": "python3"
  },
  "language_info": {
   "codemirror_mode": {
    "name": "ipython",
    "version": 3
   },
   "file_extension": ".py",
   "mimetype": "text/x-python",
   "name": "python",
   "nbconvert_exporter": "python",
   "pygments_lexer": "ipython3",
   "version": "3.11.7"
  }
 },
 "nbformat": 4,
 "nbformat_minor": 5
}
