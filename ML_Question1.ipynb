{
 "cells": [
  {
   "cell_type": "code",
   "execution_count": null,
   "id": "0f95dbb5-5b99-4c42-9dfb-c6e4080feaef",
   "metadata": {},
   "outputs": [],
   "source": [
    "import pandas as pd\n",
    "from sklearn.model_selection import train_test_split\n",
    "from sklearn.ensemble import GradientBoostingRegressor\n",
    "from sklearn.metrics import mean_squared_error\n",
    "\n",
    "# Load the dataset\n",
    "url = 'instagram_reach.csv'  # Replace with the actual URL or path\n",
    "df = pd.read_csv(url)\n",
    "\n",
    "# Feature engineering and preprocessing (simplified for illustration)\n",
    "X = df[['USERNAME', 'Caption', 'Hashtags', 'Followers', 'Likes']]\n",
    "X = pd.get_dummies(X)  # One-hot encoding for categorical variables\n",
    "\n",
    "# Preprocess 'Time since posted' column\n",
    "df['Time since posted'] = df['Time since posted'].str.extract('(\\d+)').astype(float)\n",
    "\n",
    "y_likes = df['Likes']\n",
    "y_time_since_posted = df['Time since posted']\n",
    "\n",
    "# Split the dataset\n",
    "X_train, X_test, y_likes_train, y_likes_test, y_time_train, y_time_test = train_test_split(\n",
    "    X, y_likes, y_time_since_posted, test_size=0.2, random_state=42\n",
    ")\n",
    "\n",
    "# Model for predicting likes\n",
    "likes_model = GradientBoostingRegressor()\n",
    "likes_model.fit(X_train, y_likes_train)\n",
    "likes_predictions = likes_model.predict(X_test)\n",
    "likes_mse = mean_squared_error(y_likes_test, likes_predictions)\n",
    "print(f'Mean Squared Error for Likes Prediction: {likes_mse}')\n",
    "\n",
    "# Model for predicting time since posted\n",
    "time_model = GradientBoostingRegressor()\n",
    "time_model.fit(X_train, y_time_train)\n",
    "time_predictions = time_model.predict(X_test)\n",
    "time_mse = mean_squared_error(y_time_test, time_predictions)\n",
    "print(f'Mean Squared Error for Time Prediction: {time_mse}')"
   ]
  }
 ],
 "metadata": {
  "kernelspec": {
   "display_name": "Python 3 (ipykernel)",
   "language": "python",
   "name": "python3"
  },
  "language_info": {
   "codemirror_mode": {
    "name": "ipython",
    "version": 3
   },
   "file_extension": ".py",
   "mimetype": "text/x-python",
   "name": "python",
   "nbconvert_exporter": "python",
   "pygments_lexer": "ipython3",
   "version": "3.11.7"
  }
 },
 "nbformat": 4,
 "nbformat_minor": 5
}
