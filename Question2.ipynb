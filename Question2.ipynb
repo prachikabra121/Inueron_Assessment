{
 "cells": [
  {
   "cell_type": "raw",
   "id": "2318052d-0b70-44b1-bd5c-ea7ed3716970",
   "metadata": {},
   "source": [
    "Given an array of length ‘N’, where each element denotes the position of a stall. Now you have ‘N’ stalls and an integer ‘K’ which denotes the number of horses that are mad. To prevent the horses from hurting each other, you need to assign the horses to the stalls, such that the minimum distance between any two of them is as large as possible. Return the largest minimum distance.\n",
    "\n",
    "array: 1,2,4,8,9  &  k=3\n",
    "\n",
    "O/P: 3\n",
    "\n",
    "Explanation: 1st horse at stall 1, 2nd horse at stall 4 and 3rd horse at stall 8"
   ]
  },
  {
   "cell_type": "code",
   "execution_count": 1,
   "id": "b29bc1ab-13c5-4f98-a49d-c29546af8d76",
   "metadata": {},
   "outputs": [
    {
     "name": "stdout",
     "output_type": "stream",
     "text": [
      "Largest minimum distance: 3\n"
     ]
    }
   ],
   "source": [
    "def largest_minimum_distance(stalls, k):\n",
    "    stalls.sort()\n",
    "    low, high = 0, stalls[-1] - stalls[0]\n",
    "\n",
    "    while low < high:\n",
    "        mid = (low + high) // 2\n",
    "        if can_assign_horses(stalls, k, mid):\n",
    "            low = mid + 1\n",
    "        else:\n",
    "            high = mid\n",
    "\n",
    "    return low - 1\n",
    "\n",
    "def can_assign_horses(stalls, k, min_distance):\n",
    "    horses_assigned = 1\n",
    "    current_stall = stalls[0]\n",
    "\n",
    "    for stall in stalls[1:]:\n",
    "        if stall - current_stall >= min_distance:\n",
    "            horses_assigned += 1\n",
    "            current_stall = stall\n",
    "\n",
    "    return horses_assigned >= k\n",
    "\n",
    "# Example usage\n",
    "stalls = [1, 2, 4, 8, 9]\n",
    "k = 3\n",
    "result = largest_minimum_distance(stalls, k)\n",
    "print(\"Largest minimum distance:\", result)\n"
   ]
  },
  {
   "cell_type": "code",
   "execution_count": null,
   "id": "c75dfc95-b858-4a90-82f3-ae495a9a49a1",
   "metadata": {},
   "outputs": [],
   "source": []
  }
 ],
 "metadata": {
  "kernelspec": {
   "display_name": "Python 3 (ipykernel)",
   "language": "python",
   "name": "python3"
  },
  "language_info": {
   "codemirror_mode": {
    "name": "ipython",
    "version": 3
   },
   "file_extension": ".py",
   "mimetype": "text/x-python",
   "name": "python",
   "nbconvert_exporter": "python",
   "pygments_lexer": "ipython3",
   "version": "3.11.7"
  }
 },
 "nbformat": 4,
 "nbformat_minor": 5
}
