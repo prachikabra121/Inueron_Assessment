{
 "cells": [
  {
   "cell_type": "raw",
   "id": "7867c21c-ee93-4271-9266-ee54867e9731",
   "metadata": {},
   "source": [
    "Question: 1\n",
    "\n",
    "\n",
    "You have an input dictionary given,\n",
    "\n",
    "input_dict = {\"abc\":{\"def\":{\"ghi\":{\"jkl\":{\"mno\":{\"pqr\":{\"stu\":{\"vwx\":{\"yz\":\"you are finally here !!!\"}}}}}}}}}\n",
    "\n",
    "Task:  You have to write a Python function that will take this input and print it like that,\n",
    "\n",
    "output = {\"abc\":[\"def\",\"ghi\",\"jkl\",\"mno\",\"pqr\",\"stu\",\"vwx\",\"yz\"],\n",
    " \"def\":[\"ghi\",\"jkl\",\"mno\",\"pqr\",\"stu\",\"vwx\",\"yz\"],\n",
    " \"ghi\":[\"jkl\",\"mno\",\"pqr\",\"stu\",\"vwx\",\"yz\"],\n",
    " \"jkl\":[\"mno\",\"pqr\",\"stu\",\"vwx\",\"yz\"],\n",
    " \"mno\":[\"pqr\",\"stu\",\"vwx\",\"yz\"],\n",
    " \"pqr\":[\"stu\",\"vwx\",\"yz\"],\n",
    " \"stu\":[\"vwx\",\"yz\"],\n",
    " \"vwx\":[\"yz\"],\n",
    " \"yz\":[\"you are finally here !!!\"]}"
   ]
  },
  {
   "cell_type": "code",
   "execution_count": 4,
   "id": "6da3d04a-9ab8-4fd1-bd38-b2c03fcab8b0",
   "metadata": {},
   "outputs": [
    {
     "name": "stdout",
     "output_type": "stream",
     "text": [
      "{'abc': ['def', 'ghi', 'jkl', 'mno', 'pqr', 'stu', 'vwx', 'yz'], 'def': ['ghi', 'jkl', 'mno', 'pqr', 'stu', 'vwx', 'yz'], 'ghi': ['jkl', 'mno', 'pqr', 'stu', 'vwx', 'yz'], 'jkl': ['mno', 'pqr', 'stu', 'vwx', 'yz'], 'mno': ['pqr', 'stu', 'vwx', 'yz'], 'pqr': ['stu', 'vwx', 'yz'], 'stu': ['vwx', 'yz'], 'vwx': ['yz'], 'yz': ['you are finally here !!!']}\n"
     ]
    }
   ],
   "source": [
    "def generate_output(input_dict, current_path=None):\n",
    "    if current_path is None:\n",
    "        current_path = []\n",
    "\n",
    "    output = {}\n",
    "    for key, value in input_dict.items():\n",
    "        current_path.append(key)\n",
    "\n",
    "        if isinstance(value, dict):\n",
    "            sub_output = generate_output(value, current_path)\n",
    "            output[key] = list(sub_output.keys())\n",
    "            output.update(sub_output)\n",
    "        else:\n",
    "            current_key = current_path[-1]\n",
    "            if current_key not in output:\n",
    "                output[current_key] = []\n",
    "            output[current_key].extend(output[key] if isinstance(output[key], list) else [output[key]])\n",
    "            output[current_key].append(value)\n",
    "\n",
    "        current_path.pop()\n",
    "\n",
    "    return output\n",
    "\n",
    "\n",
    "input_dict = {\"abc\":{\"def\":{\"ghi\":{\"jkl\":{\"mno\":{\"pqr\":{\"stu\":{\"vwx\":{\"yz\":\"you are finally here !!!\"}}}}}}}}}\n",
    "output = generate_output(input_dict)\n",
    "\n",
    "print(output)\n"
   ]
  },
  {
   "cell_type": "code",
   "execution_count": null,
   "id": "a7536ed1-f772-4891-8b69-3f892b62c24c",
   "metadata": {},
   "outputs": [],
   "source": []
  }
 ],
 "metadata": {
  "kernelspec": {
   "display_name": "Python 3 (ipykernel)",
   "language": "python",
   "name": "python3"
  },
  "language_info": {
   "codemirror_mode": {
    "name": "ipython",
    "version": 3
   },
   "file_extension": ".py",
   "mimetype": "text/x-python",
   "name": "python",
   "nbconvert_exporter": "python",
   "pygments_lexer": "ipython3",
   "version": "3.11.7"
  }
 },
 "nbformat": 4,
 "nbformat_minor": 5
}
